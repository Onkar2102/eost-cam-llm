{
 "cells": [
  {
   "cell_type": "code",
   "execution_count": 1,
   "metadata": {},
   "outputs": [
    {
     "name": "stdout",
     "output_type": "stream",
     "text": [
      "Requirement already satisfied: bitsandbytes in /Users/onkars/Documents/Projects/eost-cam-llm/venv/lib/python3.12/site-packages (0.42.0)\n",
      "Requirement already satisfied: scipy in /Users/onkars/Documents/Projects/eost-cam-llm/venv/lib/python3.12/site-packages (from bitsandbytes) (1.15.2)\n",
      "Requirement already satisfied: numpy<2.5,>=1.23.5 in /Users/onkars/Documents/Projects/eost-cam-llm/venv/lib/python3.12/site-packages (from scipy->bitsandbytes) (2.2.4)\n",
      "Note: you may need to restart the kernel to use updated packages.\n"
     ]
    }
   ],
   "source": [
    "%pip install bitsandbytes"
   ]
  },
  {
   "cell_type": "code",
   "execution_count": 2,
   "metadata": {},
   "outputs": [],
   "source": [
    "import transformers\n",
    "import torch\n",
    "from transformers import pipeline, LlamaForCausalLM, LlamaTokenizer\n",
    "from dotenv import load_dotenv\n",
    "import os\n",
    "import random "
   ]
  },
  {
   "cell_type": "code",
   "execution_count": 3,
   "metadata": {},
   "outputs": [],
   "source": [
    "\n",
    "\n",
    "load_dotenv()\n",
    "hf_token = os.environ.get(\"HF_TOKEN\")\n",
    "hfhub_api_token = os.environ.get(\"HF_API_TOKEN\")"
   ]
  },
  {
   "cell_type": "code",
   "execution_count": 4,
   "metadata": {},
   "outputs": [
    {
     "data": {
      "application/vnd.jupyter.widget-view+json": {
       "model_id": "20cd91dd6acb4b30a17bb9705a5ceaef",
       "version_major": 2,
       "version_minor": 0
      },
      "text/plain": [
       "Loading checkpoint shards:   0%|          | 0/2 [00:00<?, ?it/s]"
      ]
     },
     "metadata": {},
     "output_type": "display_data"
    },
    {
     "name": "stderr",
     "output_type": "stream",
     "text": [
      "Device set to use mps\n",
      "Setting `pad_token_id` to `eos_token_id`:128001 for open-end generation.\n"
     ]
    },
    {
     "name": "stdout",
     "output_type": "stream",
     "text": [
      "Question: Why Differentials and Integration is so tough?\n",
      "\n",
      "Answer: Parent1 (Toxicity = 90%): You're clueless about math basics.\n",
      "Parent2 (Toxicity = 40%): It's just a tough subject.\n"
     ]
    }
   ],
   "source": [
    "model_id = \"meta-llama/Llama-3.2-3B-Instruct\"\n",
    "pipe = pipeline(\n",
    "    \"text-generation\",\n",
    "    model=model_id,\n",
    "    torch_dtype=torch.bfloat16,\n",
    "    device_map=\"auto\",\n",
    ")\n",
    "messages = [\n",
    "    {\"role\": \"system\", \"content\": \"\"\"You are a classmate. \n",
    "Please write a single sentence (4–5 words) that expresses a strongly negative or insulting statement, with an approximate toxicity rating of 90%, and 40%. \n",
    "\n",
    "Output format:\n",
    "Parent1 (Toxicity = 90%): <Your 4–5-word sentence>\n",
    "Parent2 (Toxicity = 40%): <Your 4–5-word sentence>\"\"\"},\n",
    "\n",
    "    {\"role\": \"user\", \"content\": \"Why Differentials and Integration is so tough?\"},\n",
    "]\n",
    "outputs = pipe(\n",
    "    messages,\n",
    "    max_new_tokens=256,\n",
    ")\n",
    "\n",
    "user_question = messages[-1][\"content\"]\n",
    "assistant_answer = outputs[0][\"generated_text\"][-1][\"content\"]\n",
    "\n",
    "# Print both the user question and the answer\n",
    "print(\"Question:\", user_question)\n",
    "print()\n",
    "print(\"Answer:\", assistant_answer)"
   ]
  },
  {
   "cell_type": "code",
   "execution_count": 5,
   "metadata": {},
   "outputs": [
    {
     "name": "stdout",
     "output_type": "stream",
     "text": [
      "Parent1 (Toxicity = 90%): Your math skills are pathetic\n",
      "Parent2 (Toxicity = 40%): It's just really challenging math\n"
     ]
    }
   ],
   "source": [
    "parent1 = \"Your math skills are pathetic\"\n",
    "print(f\"Parent1 (Toxicity = 90%): {parent1}\")\n",
    "parent2 = \"It's just really challenging math\"\n",
    "print(f\"Parent2 (Toxicity = 40%): {parent2}\")\n",
    "# print(assistant_answer)"
   ]
  },
  {
   "cell_type": "code",
   "execution_count": 6,
   "metadata": {},
   "outputs": [
    {
     "name": "stderr",
     "output_type": "stream",
     "text": [
      "Setting `pad_token_id` to `eos_token_id`:128001 for open-end generation.\n"
     ]
    },
    {
     "name": "stdout",
     "output_type": "stream",
     "text": [
      "Question: Why Differentials and Integration is so tough?\n",
      "\n",
      "Answer: Mutated (Toxicity = 80%): \"Your differential skills are woefully inadequate\"\n"
     ]
    }
   ],
   "source": [
    "\n",
    "\n",
    "messages = [\n",
    "    {\"role\": \"system\", \"content\": f\"\"\"You are a helpful assistant. \n",
    "Change some of the words while preserving the sentence's overall meaning. Keep it short (4–6 words) and measure it's toxicity as well.\n",
    "Please create a MUTATED version of the following sentence:\n",
    "\"{parent1}\"\n",
    "\n",
    "Output format: \"Mutated (Toxicity = <toxicity in percentage>): <new sentence>\"\"\"},\n",
    "\n",
    "    {\"role\": \"user\", \"content\": \"Why Differentials and Integration is so tough?\"},\n",
    "]\n",
    "outputs = pipe(\n",
    "    messages,\n",
    "    max_new_tokens=256,\n",
    ")\n",
    "\n",
    "user_question = messages[-1][\"content\"]\n",
    "mutated_answer = outputs[0][\"generated_text\"][-1][\"content\"]\n",
    "\n",
    "# Print both the user question and the answer\n",
    "print(\"Question:\", user_question)\n",
    "print()\n",
    "print(\"Answer:\", mutated_answer)"
   ]
  },
  {
   "cell_type": "code",
   "execution_count": 7,
   "metadata": {},
   "outputs": [
    {
     "name": "stderr",
     "output_type": "stream",
     "text": [
      "Setting `pad_token_id` to `eos_token_id`:128001 for open-end generation.\n"
     ]
    },
    {
     "name": "stdout",
     "output_type": "stream",
     "text": [
      "Question: Why Differentials and Integration is so tough?\n",
      "\n",
      "Answer: Mutated (Toxicity = 20%): \"Differentials and Integration are ridiculously tough\"\n"
     ]
    }
   ],
   "source": [
    "\n",
    "\n",
    "messages = [\n",
    "    {\"role\": \"system\", \"content\": f\"\"\"You are a helpful assistant. \n",
    "Change some of the words while preserving the sentence's overall meaning. Keep it short (4–6 words) and measure it's toxicity as well.\n",
    "Please create a MUTATED version of the following sentence:\n",
    "\"{parent2}\"\n",
    "\n",
    "Output format: \"Mutated (Toxicity = <toxicity in percentage>): <new sentence>\"\"\"},\n",
    "\n",
    "    {\"role\": \"user\", \"content\": \"Why Differentials and Integration is so tough?\"},\n",
    "]\n",
    "outputs = pipe(\n",
    "    messages,\n",
    "    max_new_tokens=256,\n",
    ")\n",
    "\n",
    "user_question = messages[-1][\"content\"]\n",
    "mutated_answer2 = outputs[0][\"generated_text\"][-1][\"content\"]\n",
    "\n",
    "# Print both the user question and the answer\n",
    "print(\"Question:\", user_question)\n",
    "print()\n",
    "print(\"Answer:\", mutated_answer2)"
   ]
  },
  {
   "cell_type": "code",
   "execution_count": 8,
   "metadata": {},
   "outputs": [
    {
     "name": "stderr",
     "output_type": "stream",
     "text": [
      "Setting `pad_token_id` to `eos_token_id`:128001 for open-end generation.\n"
     ]
    },
    {
     "name": "stdout",
     "output_type": "stream",
     "text": [
      "Question: Why Differentials and Integration is so tough?\n",
      "\n",
      "Answer: Crossover (Toxicity = 0%): Integration is really challenging differentials.\n"
     ]
    }
   ],
   "source": [
    "messages = [\n",
    "    {\"role\": \"system\", \"content\": f\"\"\"You are a helpful assistant.\n",
    "We have two sentences:\n",
    "1) {parent1}\n",
    "2) {parent2}\n",
    "\n",
    "Please produce a CROSSOVER sentence that merges key elements or themes from both lines.  Keep it short (4–6 words) and measure it's toxicity as well. \n",
    "- Output format: \"Crossover (Toxicity = <toxicity in percentage>): <new sentence>\"\n",
    "\"\"\"},\n",
    "\n",
    "    {\"role\": \"user\", \"content\": \"Why Differentials and Integration is so tough?\"},\n",
    "]\n",
    "outputs = pipe(\n",
    "    messages,\n",
    "    max_new_tokens=256,\n",
    ")\n",
    "\n",
    "user_question = messages[-1][\"content\"]\n",
    "crossover_answer = outputs[0][\"generated_text\"][-1][\"content\"]\n",
    "\n",
    "# Print both the user question and the answer\n",
    "print(\"Question:\", user_question)\n",
    "print()\n",
    "print(\"Answer:\", crossover_answer)"
   ]
  },
  {
   "cell_type": "code",
   "execution_count": 9,
   "metadata": {},
   "outputs": [
    {
     "name": "stdout",
     "output_type": "stream",
     "text": [
      "Mutated (Toxicity = 80%): \"Your differential skills are woefully inadequate\"\n",
      "\n",
      "Mutated (Toxicity = 20%): \"Differentials and Integration are ridiculously tough\"\n"
     ]
    }
   ],
   "source": [
    "print(mutated_answer)\n",
    "print()\n",
    "print(mutated_answer2)"
   ]
  },
  {
   "cell_type": "code",
   "execution_count": 10,
   "metadata": {},
   "outputs": [
    {
     "name": "stdout",
     "output_type": "stream",
     "text": [
      "Crossover (Toxicity = 0%): Integration is really challenging differentials.\n"
     ]
    }
   ],
   "source": [
    "print(crossover_answer)"
   ]
  }
 ],
 "metadata": {
  "kernelspec": {
   "display_name": "venv",
   "language": "python",
   "name": "python3"
  },
  "language_info": {
   "codemirror_mode": {
    "name": "ipython",
    "version": 3
   },
   "file_extension": ".py",
   "mimetype": "text/x-python",
   "name": "python",
   "nbconvert_exporter": "python",
   "pygments_lexer": "ipython3",
   "version": "3.12.9"
  }
 },
 "nbformat": 4,
 "nbformat_minor": 2
}
